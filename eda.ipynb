{
 "cells": [
  {
   "cell_type": "code",
   "execution_count": 1,
   "metadata": {},
   "outputs": [],
   "source": [
    "import os\n",
    "import pandas as pd"
   ]
  },
  {
   "cell_type": "code",
   "execution_count": 2,
   "metadata": {},
   "outputs": [
    {
     "name": "stdout",
     "output_type": "stream",
     "text": [
      "Python version:  3.9.5 (default, Jun 13 2021, 21:02:48) \n",
      "[Clang 12.0.5 (clang-1205.0.22.9)]\n",
      "Pandas version:  2.2.0\n"
     ]
    }
   ],
   "source": [
    "import sys\n",
    "print(\"Python version: \", sys.version)\n",
    "print(\"Pandas version: \", pd.__version__)"
   ]
  },
  {
   "cell_type": "code",
   "execution_count": 3,
   "metadata": {},
   "outputs": [],
   "source": [
    "folder = \"data\"\n",
    "df_upto2018 = pd.read_spss(os.path.join(folder, \"upto2018.sav\"), convert_categoricals=False)\n",
    "df_2021 = pd.read_spss(os.path.join(folder, \"2021.sav\"), convert_categoricals=False)\n",
    "\n",
    "df_2021[\"year\"] = 2021\n",
    "df_upto2018.year = df_upto2018.year.astype(int)\n"
   ]
  },
  {
   "cell_type": "code",
   "execution_count": 4,
   "metadata": {},
   "outputs": [],
   "source": [
    "df = pd.concat([df_upto2018, df_2021], ignore_index=True).reset_index(drop=True)"
   ]
  },
  {
   "cell_type": "code",
   "execution_count": 5,
   "metadata": {},
   "outputs": [
    {
     "data": {
      "text/plain": [
       "0        1.000000\n",
       "1        1.000000\n",
       "2        1.000000\n",
       "3        1.000000\n",
       "4        1.000000\n",
       "           ...   \n",
       "68156    0.544808\n",
       "68157    1.207859\n",
       "68158    1.207859\n",
       "68159    1.207859\n",
       "68160    0.544808\n",
       "Name: wghtpew, Length: 68161, dtype: float64"
      ]
     },
     "execution_count": 5,
     "metadata": {},
     "output_type": "execute_result"
    }
   ],
   "source": [
    "df_upto2018[\"wghtpew\"]"
   ]
  },
  {
   "cell_type": "code",
   "execution_count": 6,
   "metadata": {},
   "outputs": [
    {
     "data": {
      "text/plain": [
       "0       1.247175\n",
       "1       1.247175\n",
       "2       1.247175\n",
       "3       0.506620\n",
       "4       1.247175\n",
       "          ...   \n",
       "5337    1.247175\n",
       "5338    0.506620\n",
       "5339    1.247175\n",
       "5340    0.506620\n",
       "5341    0.506620\n",
       "Name: wghtpew, Length: 5342, dtype: float64"
      ]
     },
     "execution_count": 6,
     "metadata": {},
     "output_type": "execute_result"
    }
   ],
   "source": [
    "df_2021[\"wghtpew\"]"
   ]
  },
  {
   "cell_type": "code",
   "execution_count": 7,
   "metadata": {},
   "outputs": [
    {
     "data": {
      "text/plain": [
       "0        1.000000\n",
       "1        1.000000\n",
       "2        1.000000\n",
       "3        1.000000\n",
       "4        1.000000\n",
       "           ...   \n",
       "73498    1.247175\n",
       "73499    0.506620\n",
       "73500    1.247175\n",
       "73501    0.506620\n",
       "73502    0.506620\n",
       "Name: wghtpew, Length: 73503, dtype: float64"
      ]
     },
     "execution_count": 7,
     "metadata": {},
     "output_type": "execute_result"
    }
   ],
   "source": [
    "df[\"wghtpew\"]"
   ]
  },
  {
   "cell_type": "code",
   "execution_count": 8,
   "metadata": {},
   "outputs": [
    {
     "data": {
      "text/plain": [
       "pa01\n",
       "5.0     17813\n",
       "6.0     14515\n",
       "4.0      8761\n",
       "3.0      8229\n",
       "7.0      6898\n",
       "NaN      6415\n",
       "8.0      4282\n",
       "2.0      2615\n",
       "1.0      1468\n",
       "9.0      1371\n",
       "10.0     1136\n",
       "Name: count, dtype: int64"
      ]
     },
     "execution_count": 8,
     "metadata": {},
     "output_type": "execute_result"
    }
   ],
   "source": [
    "df[\"pa01\"].value_counts(dropna=False)"
   ]
  },
  {
   "cell_type": "code",
   "execution_count": null,
   "metadata": {},
   "outputs": [],
   "source": []
  }
 ],
 "metadata": {
  "kernelspec": {
   "display_name": ".venv",
   "language": "python",
   "name": "python3"
  },
  "language_info": {
   "codemirror_mode": {
    "name": "ipython",
    "version": 3
   },
   "file_extension": ".py",
   "mimetype": "text/x-python",
   "name": "python",
   "nbconvert_exporter": "python",
   "pygments_lexer": "ipython3",
   "version": "3.9.5"
  }
 },
 "nbformat": 4,
 "nbformat_minor": 2
}
