{
 "cells": [
  {
   "cell_type": "code",
   "execution_count": 1,
   "metadata": {},
   "outputs": [],
   "source": [
    "import os\n",
    "import pandas as pd"
   ]
  },
  {
   "cell_type": "code",
   "execution_count": 2,
   "metadata": {},
   "outputs": [],
   "source": [
    "folder = \"data\"\n",
    "df_upto2018 = pd.read_spss(os.path.join(folder, \"upto2018.sav\"), convert_categoricals=False)\n",
    "df_2021 = pd.read_spss(os.path.join(folder, \"2021.sav\"), convert_categoricals=False)\n",
    "\n",
    "df_2021[\"year\"] = 2021\n",
    "df_upto2018.year = df_upto2018.year.astype(int)\n"
   ]
  },
  {
   "cell_type": "code",
   "execution_count": 3,
   "metadata": {},
   "outputs": [],
   "source": [
    "df = pd.concat([df_upto2018, df_2021], ignore_index=True).reset_index(drop=True)"
   ]
  },
  {
   "cell_type": "code",
   "execution_count": 4,
   "metadata": {},
   "outputs": [
    {
     "data": {
      "text/plain": [
       "0        1.000000\n",
       "1        1.000000\n",
       "2        1.000000\n",
       "3        1.000000\n",
       "4        1.000000\n",
       "           ...   \n",
       "68156    0.544808\n",
       "68157    1.207859\n",
       "68158    1.207859\n",
       "68159    1.207859\n",
       "68160    0.544808\n",
       "Name: wghtpew, Length: 68161, dtype: float64"
      ]
     },
     "execution_count": 4,
     "metadata": {},
     "output_type": "execute_result"
    }
   ],
   "source": [
    "df_upto2018[\"wghtpew\"]"
   ]
  },
  {
   "cell_type": "code",
   "execution_count": 5,
   "metadata": {},
   "outputs": [
    {
     "data": {
      "text/plain": [
       "0       1.247175\n",
       "1       1.247175\n",
       "2       1.247175\n",
       "3       0.506620\n",
       "4       1.247175\n",
       "          ...   \n",
       "5337    1.247175\n",
       "5338    0.506620\n",
       "5339    1.247175\n",
       "5340    0.506620\n",
       "5341    0.506620\n",
       "Name: wghtpew, Length: 5342, dtype: float64"
      ]
     },
     "execution_count": 5,
     "metadata": {},
     "output_type": "execute_result"
    }
   ],
   "source": [
    "df_2021[\"wghtpew\"]"
   ]
  },
  {
   "cell_type": "code",
   "execution_count": 23,
   "metadata": {},
   "outputs": [
    {
     "data": {
      "text/plain": [
       "0        1.000000\n",
       "1        1.000000\n",
       "2        1.000000\n",
       "3        1.000000\n",
       "4        1.000000\n",
       "           ...   \n",
       "73498    1.247175\n",
       "73499    0.506620\n",
       "73500    1.247175\n",
       "73501    0.506620\n",
       "73502    0.506620\n",
       "Name: wghtpew, Length: 73503, dtype: float64"
      ]
     },
     "execution_count": 23,
     "metadata": {},
     "output_type": "execute_result"
    }
   ],
   "source": [
    "df[\"wghtpew\"]"
   ]
  },
  {
   "cell_type": "code",
   "execution_count": 6,
   "metadata": {},
   "outputs": [
    {
     "data": {
      "text/plain": [
       "pa01\n",
       "5.0     17813\n",
       "6.0     14515\n",
       "4.0      8761\n",
       "3.0      8229\n",
       "7.0      6898\n",
       "NaN      6415\n",
       "8.0      4282\n",
       "2.0      2615\n",
       "1.0      1468\n",
       "9.0      1371\n",
       "10.0     1136\n",
       "Name: count, dtype: int64"
      ]
     },
     "execution_count": 6,
     "metadata": {},
     "output_type": "execute_result"
    }
   ],
   "source": [
    "df[\"pa01\"].value_counts(dropna=False)"
   ]
  },
  {
   "cell_type": "code",
   "execution_count": 25,
   "metadata": {},
   "outputs": [
    {
     "data": {
      "text/plain": [
       "wghtpew\n",
       "1.000000    18148\n",
       "1.247175     3559\n",
       "1.184250     2402\n",
       "1.198219     2400\n",
       "1.183248     2392\n",
       "1.207859     2387\n",
       "1.204750     2362\n",
       "1.210849     2358\n",
       "1.193977     2342\n",
       "1.233827     2325\n",
       "1.213276     2299\n",
       "1.190430     2212\n",
       "1.252230     2036\n",
       "1.209943     1982\n",
       "1.179175     1960\n",
       "1.184310     1934\n",
       "0.506620     1783\n",
       "0.375279     1544\n",
       "1.637100     1514\n",
       "0.533350     1165\n",
       "0.585606     1148\n",
       "0.556879     1122\n",
       "0.562994     1122\n",
       "0.603440     1116\n",
       "0.563913     1109\n",
       "0.589988     1108\n",
       "0.534000     1102\n",
       "0.544808     1090\n",
       "0.593009     1077\n",
       "0.587830     1022\n",
       "0.568354      964\n",
       "0.597660      886\n",
       "0.594944      867\n",
       "1.216010      445\n",
       "0.565100      221\n",
       "Name: count, dtype: int64"
      ]
     },
     "execution_count": 25,
     "metadata": {},
     "output_type": "execute_result"
    }
   ],
   "source": [
    "df[\"wghtpew\"].value_counts(dropna=False)"
   ]
  },
  {
   "cell_type": "code",
   "execution_count": 7,
   "metadata": {},
   "outputs": [
    {
     "data": {
      "text/plain": [
       "Index(['za_nr', 'doi', 'version', 'year', 'respid', 'ep01', 'ep02', 'ep03',\n",
       "       'ep04', 'ep05',\n",
       "       ...\n",
       "       'hp06', 'hp07', 'hp08', 'xs14', 'xt12', 'xt13', 'xt14', 'xt10c', 'xs15',\n",
       "       'xs16'],\n",
       "      dtype='object', length=1664)"
      ]
     },
     "execution_count": 7,
     "metadata": {},
     "output_type": "execute_result"
    }
   ],
   "source": [
    "df.columns"
   ]
  },
  {
   "cell_type": "code",
   "execution_count": null,
   "metadata": {},
   "outputs": [],
   "source": [
    "potential_questions = {\n",
    "    ep01 WIRTSCHAFTSLAGE IN DER BRD HEUTE\n",
    "    ep02 WIRTSCHAFTSLAGE IM EIG. BUNDESLAND HEUTE\n",
    "    ep03 WIRTSCHAFTSLAGE, BEFR. HEUTE\n",
    "    ps01 ZUFRIEDEN MIT LEISTUNG D.BUNDESREGIERUNG\n",
    "    ps02 ZUFRIEDEN MIT LEISTUNG D.LANDESREGIERUNG\n",
    "    ps03 ZUFRIEDEN MIT DEMOKRATIE IN DER BRD?\n",
    "    ps04 FUNKTIONIERT UNSER POLITISCHES SYSTEM?\n",
    "    pa02b POLITISCHES INTERESSE, BEFR.(10ER SKALA)\n",
    "    pd11 IN DER BRD KANN MAN SEHR GUT LEBEN\n",
    "\n",
    "}"
   ]
  },
  {
   "cell_type": "code",
   "execution_count": 24,
   "metadata": {},
   "outputs": [
    {
     "data": {
      "text/plain": [
       "3477"
      ]
     },
     "execution_count": 24,
     "metadata": {},
     "output_type": "execute_result"
    }
   ],
   "source": [
    "df[df.year == 2018].ep01.value_counts(dropna=False).sum()"
   ]
  },
  {
   "cell_type": "code",
   "execution_count": 77,
   "metadata": {},
   "outputs": [
    {
     "data": {
      "text/plain": [
       "{2.0: 873, 1.0: 820, 4.0: 726, 3.0: 586, 5.0: 280}"
      ]
     },
     "execution_count": 77,
     "metadata": {},
     "output_type": "execute_result"
    }
   ],
   "source": [
    "def weighted_value_counts(df: pd.DataFrame, year: int, question: str, weight_column: str, normalize: bool = False) -> dict:\n",
    "    \"\"\"Return the weighted value counts for a question in a given year. If normalize is True, the result will be normalized to sum to 1.\"\"\"\n",
    "    df_subset = df[df.year == year]\n",
    "\n",
    "    result = {}\n",
    "    for answer in df_subset[question].value_counts(dropna=True).index:\n",
    "        answer_count = len(df_subset[df_subset[question] == answer])\n",
    "        weights = df_subset[df_subset[question] == answer][weight_column].mean()\n",
    "        result[answer] = answer_count * weights\n",
    "\n",
    "    if normalize:\n",
    "        total = sum(result.values())\n",
    "        result = {k: v / total for k, v in result.items()}\n",
    "    else:\n",
    "        result = {k: round(v) for k, v in result.items()}\n",
    "\n",
    "    return result\n",
    "\n",
    "weighted_value_counts(df, 2008, \"pa18\", \"wghtpew\", normalize=False)"
   ]
  },
  {
   "cell_type": "code",
   "execution_count": 101,
   "metadata": {},
   "outputs": [
    {
     "data": {
      "text/plain": [
       "{0.0: 0.9613854854633902, 1.0: 0.03861451453660982}"
      ]
     },
     "execution_count": 101,
     "metadata": {},
     "output_type": "execute_result"
    }
   ],
   "source": [
    "weighted_value_counts(df, 2018, \"sm03\", \"wghtpew\", normalize=True)"
   ]
  },
  {
   "cell_type": "code",
   "execution_count": null,
   "metadata": {},
   "outputs": [],
   "source": []
  }
 ],
 "metadata": {
  "kernelspec": {
   "display_name": ".venv",
   "language": "python",
   "name": "python3"
  },
  "language_info": {
   "codemirror_mode": {
    "name": "ipython",
    "version": 3
   },
   "file_extension": ".py",
   "mimetype": "text/x-python",
   "name": "python",
   "nbconvert_exporter": "python",
   "pygments_lexer": "ipython3",
   "version": "3.9.5"
  }
 },
 "nbformat": 4,
 "nbformat_minor": 2
}
